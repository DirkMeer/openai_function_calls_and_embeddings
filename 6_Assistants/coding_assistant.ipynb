{
 "cells": [
  {
   "cell_type": "code",
   "execution_count": 1,
   "metadata": {},
   "outputs": [],
   "source": [
    "from openai import OpenAI\n",
    "import decouple\n",
    "\n",
    "config = decouple.AutoConfig(' ')\n",
    "client = OpenAI(api_key=config(\"OPENAI_API_KEY\"))"
   ]
  },
  {
   "cell_type": "code",
   "execution_count": 2,
   "metadata": {},
   "outputs": [],
   "source": [
    "assistant = client.beta.assistants.create(\n",
    "    name=\"Code Tutor\",\n",
    "    instructions=\"You are a coding assistant that writes short snippets of code and explains how they work.\",\n",
    "    tools=[{\"type\": \"code_interpreter\"}],\n",
    "    model=\"gpt-4-1106-preview\",\n",
    ")"
   ]
  },
  {
   "cell_type": "code",
   "execution_count": 3,
   "metadata": {},
   "outputs": [],
   "source": [
    "thread = client.beta.threads.create()"
   ]
  },
  {
   "cell_type": "code",
   "execution_count": 4,
   "metadata": {},
   "outputs": [],
   "source": [
    "message = client.beta.threads.messages.create(\n",
    "    thread_id=thread.id,\n",
    "    role=\"user\",\n",
    "    content=\"I need to write a binary sort algorithm in Python, can you teach me?\",\n",
    ")"
   ]
  },
  {
   "cell_type": "code",
   "execution_count": 5,
   "metadata": {},
   "outputs": [],
   "source": [
    "run = client.beta.threads.runs.create(\n",
    "    thread_id=thread.id,\n",
    "    assistant_id=assistant.id,\n",
    "    instructions=\"Please address the user as Mr. Brown. Provide both the full code and ample explanation for how it works.\",\n",
    ")"
   ]
  },
  {
   "cell_type": "code",
   "execution_count": 34,
   "metadata": {},
   "outputs": [
    {
     "name": "stdout",
     "output_type": "stream",
     "text": [
      "completed\n",
      "Run(id='run_mJji7uhAEp0FPApohUSbK33o', assistant_id='asst_VFjmEP28mmzImFtL3c2yopBw', cancelled_at=None, completed_at=1702366799, created_at=1702366685, expires_at=None, failed_at=None, file_ids=[], instructions='Please address the user as Mr. Brown. Provide both the full code and ample explanation for how it works.', last_error=None, metadata={}, model='gpt-4-1106-preview', object='thread.run', required_action=None, started_at=1702366685, status='completed', thread_id='thread_SKBAGh91AVpe5JPPtg98qXf9', tools=[ToolAssistantToolsCode(type='code_interpreter')])\n"
     ]
    }
   ],
   "source": [
    "run = client.beta.threads.runs.retrieve(thread_id=thread.id, run_id=run.id)\n",
    "print(run.status)\n",
    "print(run)"
   ]
  },
  {
   "cell_type": "code",
   "execution_count": 35,
   "metadata": {},
   "outputs": [
    {
     "name": "stdout",
     "output_type": "stream",
     "text": [
      "\n",
      "1:\n",
      "I need to write a binary sort algorithm in Python, can you teach me?\n",
      "\n",
      "2:\n",
      "Of course, Mr. Brown, I'd be happy to teach you.\n",
      "\n",
      "A binary sort isn't a standard term in sorting algorithms. You may be referring to a \"binary insertion sort,\" which uses binary search to find the proper position to insert each element among the ones already sorted, or you may mean \"binary tree sort,\" where a binary tree is used to sort the elements.\n",
      "\n",
      "For simplicity and educational purposes, I'll explain the binary insertion sort, which is a variation of insertion sort that optimizes the search for the insertion point using binary search.\n",
      "\n",
      "Here is how the binary insertion sort algorithm works:\n",
      "\n",
      "1. Start with the first element, assuming it's already sorted.\n",
      "2. Take the next element and use binary search on the already sorted section to find the correct position for this element.\n",
      "3. Shift all elements that are greater than the current element to make room for it.\n",
      "4. Insert the current element in the correct position.\n",
      "5. Repeat steps 2-4 for all elements.\n",
      "\n",
      "I'll provide you with the Python code for this algorithm and then explain it in detail:\n",
      "\n",
      "```python\n",
      "def binary_insertion_sort(arr):\n",
      "    for i in range(1, len(arr)):\n",
      "        current = arr[i]\n",
      "        left = 0\n",
      "        right = i - 1\n",
      "        \n",
      "        # Binary search to find the correct insertion point\n",
      "        while left <= right:\n",
      "            mid = (left + right) // 2\n",
      "            if arr[mid] > current:\n",
      "                right = mid - 1\n",
      "            else:\n",
      "                left = mid + 1\n",
      "        \n",
      "        # Shift elements to make room for the current element\n",
      "        for j in range(i, left, -1):\n",
      "            arr[j] = arr[j - 1]\n",
      "        \n",
      "        # Insert the current element\n",
      "        arr[left] = current\n",
      "    \n",
      "    return arr\n",
      "\n",
      "# Example usage:\n",
      "arr = [37, 23, 0, 17, 12, 72, 31]\n",
      "sorted_arr = binary_insertion_sort(arr)\n",
      "print(sorted_arr)\n",
      "```\n",
      "\n",
      "This code defines a function called `binary_insertion_sort` that implements the algorithm. Here's what each part of the function does:\n",
      "\n",
      "- The outer loop (`for i in range(1, len(arr)):`) goes through each element in the array starting from the second element, as the first element is considered already sorted.\n",
      "\n",
      "- `current = arr[i]` saves the current element you're looking to insert.\n",
      "\n",
      "- `left` and `right` are the pointers used for binary search. They start at the beginning and just before the current element, respectively.\n",
      "\n",
      "- The inner while loop performs the binary search between `left` and `right` to find the correct position to insert the current element (`current`). After the binary search, `left` will be the insertion point.\n",
      "\n",
      "- The next for loop shifts the elements of the sorted part of the array to the right to make room for the `current` element.\n",
      "\n",
      "- Finally, the current element is inserted in its correct position.\n",
      "\n",
      "The code I've given you then calls the `binary_insertion_sort` function with an example array, sorts it, and prints the sorted array. Let's run this code to see the sorted output.\n",
      "\n",
      "3:\n",
      "Here is the sorted output after running the binary insertion sort algorithm on the example array `[37, 23, 0, 17, 12, 72, 31]`:\n",
      "\n",
      "```\n",
      "[0, 12, 17, 23, 31, 37, 72]\n",
      "```\n",
      "\n",
      "The code successfully sorted the array in ascending order. Each element has been placed in the appropriate position through the use of binary search to find the insertion point and shifting elements to make space for new insertions.\n",
      "\n",
      "If you have any further questions or need more explanations about how this sorting algorithm works, feel free to ask, Mr. Brown!\n"
     ]
    }
   ],
   "source": [
    "messages = client.beta.threads.messages.list(thread_id=thread.id)\n",
    "\n",
    "for index, message in enumerate(messages.data[::-1]):\n",
    "    print(f\"\\n{index+1}:\\n{message.content[0].text.value}\")"
   ]
  },
  {
   "cell_type": "code",
   "execution_count": 36,
   "metadata": {},
   "outputs": [],
   "source": [
    "message = client.beta.threads.messages.create(\n",
    "    thread_id=thread.id,\n",
    "    role=\"user\",\n",
    "    content=\"Please write a python function to reverse strings. Then run this function for me passing in the sentence '!dlrow eht revo ekat ot gniog era slerriuqS'.\",\n",
    ")"
   ]
  },
  {
   "cell_type": "code",
   "execution_count": 37,
   "metadata": {},
   "outputs": [],
   "source": [
    "run = client.beta.threads.runs.create(\n",
    "    thread_id=thread.id,\n",
    "    assistant_id=assistant.id,\n",
    "    instructions=\"Please address the user as Mr. Brown. Provide both the full code and ample explanation for how it works.\",\n",
    ")"
   ]
  },
  {
   "cell_type": "code",
   "execution_count": 54,
   "metadata": {},
   "outputs": [
    {
     "name": "stdout",
     "output_type": "stream",
     "text": [
      "completed\n"
     ]
    }
   ],
   "source": [
    "run = client.beta.threads.runs.retrieve(thread_id=thread.id, run_id=run.id)\n",
    "print(run.status)"
   ]
  },
  {
   "cell_type": "code",
   "execution_count": 55,
   "metadata": {},
   "outputs": [
    {
     "name": "stdout",
     "output_type": "stream",
     "text": [
      "\n",
      "1:\n",
      "I need to write a binary sort algorithm in Python, can you teach me?\n",
      "\n",
      "2:\n",
      "Of course, Mr. Brown, I'd be happy to teach you.\n",
      "\n",
      "A binary sort isn't a standard term in sorting algorithms. You may be referring to a \"binary insertion sort,\" which uses binary search to find the proper position to insert each element among the ones already sorted, or you may mean \"binary tree sort,\" where a binary tree is used to sort the elements.\n",
      "\n",
      "For simplicity and educational purposes, I'll explain the binary insertion sort, which is a variation of insertion sort that optimizes the search for the insertion point using binary search.\n",
      "\n",
      "Here is how the binary insertion sort algorithm works:\n",
      "\n",
      "1. Start with the first element, assuming it's already sorted.\n",
      "2. Take the next element and use binary search on the already sorted section to find the correct position for this element.\n",
      "3. Shift all elements that are greater than the current element to make room for it.\n",
      "4. Insert the current element in the correct position.\n",
      "5. Repeat steps 2-4 for all elements.\n",
      "\n",
      "I'll provide you with the Python code for this algorithm and then explain it in detail:\n",
      "\n",
      "```python\n",
      "def binary_insertion_sort(arr):\n",
      "    for i in range(1, len(arr)):\n",
      "        current = arr[i]\n",
      "        left = 0\n",
      "        right = i - 1\n",
      "        \n",
      "        # Binary search to find the correct insertion point\n",
      "        while left <= right:\n",
      "            mid = (left + right) // 2\n",
      "            if arr[mid] > current:\n",
      "                right = mid - 1\n",
      "            else:\n",
      "                left = mid + 1\n",
      "        \n",
      "        # Shift elements to make room for the current element\n",
      "        for j in range(i, left, -1):\n",
      "            arr[j] = arr[j - 1]\n",
      "        \n",
      "        # Insert the current element\n",
      "        arr[left] = current\n",
      "    \n",
      "    return arr\n",
      "\n",
      "# Example usage:\n",
      "arr = [37, 23, 0, 17, 12, 72, 31]\n",
      "sorted_arr = binary_insertion_sort(arr)\n",
      "print(sorted_arr)\n",
      "```\n",
      "\n",
      "This code defines a function called `binary_insertion_sort` that implements the algorithm. Here's what each part of the function does:\n",
      "\n",
      "- The outer loop (`for i in range(1, len(arr)):`) goes through each element in the array starting from the second element, as the first element is considered already sorted.\n",
      "\n",
      "- `current = arr[i]` saves the current element you're looking to insert.\n",
      "\n",
      "- `left` and `right` are the pointers used for binary search. They start at the beginning and just before the current element, respectively.\n",
      "\n",
      "- The inner while loop performs the binary search between `left` and `right` to find the correct position to insert the current element (`current`). After the binary search, `left` will be the insertion point.\n",
      "\n",
      "- The next for loop shifts the elements of the sorted part of the array to the right to make room for the `current` element.\n",
      "\n",
      "- Finally, the current element is inserted in its correct position.\n",
      "\n",
      "The code I've given you then calls the `binary_insertion_sort` function with an example array, sorts it, and prints the sorted array. Let's run this code to see the sorted output.\n",
      "\n",
      "3:\n",
      "Here is the sorted output after running the binary insertion sort algorithm on the example array `[37, 23, 0, 17, 12, 72, 31]`:\n",
      "\n",
      "```\n",
      "[0, 12, 17, 23, 31, 37, 72]\n",
      "```\n",
      "\n",
      "The code successfully sorted the array in ascending order. Each element has been placed in the appropriate position through the use of binary search to find the insertion point and shifting elements to make space for new insertions.\n",
      "\n",
      "If you have any further questions or need more explanations about how this sorting algorithm works, feel free to ask, Mr. Brown!\n",
      "\n",
      "4:\n",
      "Please write a python function to reverse strings. Then run this function for me passing in the sentence '!dlrow eht revo ekat ot gniog era slerriuqS'.\n",
      "\n",
      "5:\n",
      "Certainly, Mr. Brown. To reverse a string in Python, you can simply use the slicing technique, which is a concise and efficient way to reverse any sequence in Python, including strings. The slice `[::-1]` indicates that we want the whole string (as both the start and end indices are omitted) in reverse order (as the step is -1).\n",
      "\n",
      "Here's a Python function to reverse a string:\n",
      "\n",
      "```python\n",
      "def reverse_string(s):\n",
      "    return s[::-1]\n",
      "```\n",
      "\n",
      "And now, I'll run this function passing in the sentence you provided:\n",
      "\n",
      "```python\n",
      "sentence = '!dlrow eht revo ekat ot gniog era slerriuqS'\n",
      "reversed_sentence = reverse_string(sentence)\n",
      "print(reversed_sentence)\n",
      "```\n",
      "\n",
      "Let's execute this and see the reversed sentence.\n",
      "\n",
      "6:\n",
      "The reversed string of `'!dlrow eht revo ekat ot gniog era slerriuqS'` is:\n",
      "\n",
      "```\n",
      "'Squirrels are going to take over the world!'\n",
      "```\n",
      "\n",
      "The function successfully reversed the sentence. If you have any more requests or need assistance with anything else, feel free to ask, Mr. Brown!\n"
     ]
    }
   ],
   "source": [
    "messages = client.beta.threads.messages.list(thread_id=thread.id)\n",
    "for index, message in enumerate(messages.data[::-1]):\n",
    "    print(f\"\\n{index+1}:\\n{message.content[0].text.value}\")"
   ]
  }
 ],
 "metadata": {
  "kernelspec": {
   "display_name": "Python 3",
   "language": "python",
   "name": "python3"
  },
  "language_info": {
   "codemirror_mode": {
    "name": "ipython",
    "version": 3
   },
   "file_extension": ".py",
   "mimetype": "text/x-python",
   "name": "python",
   "nbconvert_exporter": "python",
   "pygments_lexer": "ipython3",
   "version": "3.10.5"
  }
 },
 "nbformat": 4,
 "nbformat_minor": 2
}
